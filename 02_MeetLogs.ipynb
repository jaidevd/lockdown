{
 "cells": [
  {
   "cell_type": "code",
   "execution_count": null,
   "metadata": {},
   "outputs": [],
   "source": [
    "import pandas as pd\n",
    "from tqdm import tqdm\n",
    "import re\n",
    "import numpy as np\n",
    "from sklearn.preprocessing import StandardScaler\n",
    "from sklearn.manifold import TSNE\n",
    "from sklearn.decomposition import PCA\n",
    "from scipy.spatial import ConvexHull\n",
    "import altair as alt\n",
    "from sklearn.neighbors import NearestNeighbors\n",
    "import matplotlib.pyplot as plt"
   ]
  },
  {
   "cell_type": "code",
   "execution_count": null,
   "metadata": {},
   "outputs": [],
   "source": [
    "%matplotlib inline"
   ]
  },
  {
   "cell_type": "code",
   "execution_count": null,
   "metadata": {},
   "outputs": [],
   "source": [
    "df = pd.read_csv('data/meet_logs_fake.csv', parse_dates=['Date'],\n",
    "                 usecols=['Date', 'Meeting Code', 'Participant Identifier', 'Participant Outside Organisation', 'Client Type', 'Organizer Email',\n",
    "                          'Product Type', 'Duration', 'Participant Name', 'City', 'Country'])\n",
    "df.dropna(subset=['Duration', 'Participant Identifier'], inplace=True)\n",
    "\n",
    "\n",
    "df['dayofweek'] = df['Date'].dt.dayofweek\n",
    "df['hourofday'] = df['Date'].dt.hour\n",
    "\n",
    "xdf = df[df['Date'] < '2020-03-14']\n",
    "ydf = df[df['Date'] >= '2020-03-14']\n",
    "\n",
    "df.head()"
   ]
  },
  {
   "cell_type": "code",
   "execution_count": null,
   "metadata": {},
   "outputs": [],
   "source": [
    "def get_profiles(df):\n",
    "    _df = df[['dayofweek', 'hourofday', 'Duration', 'Client Type', 'Product Type', 'Country',\n",
    "               'Participant Identifier', 'Organizer Email']]\n",
    "    profiles = []\n",
    "    for person in _df['Participant Identifier'].unique():\n",
    "        pdf = _df[_df['Participant Identifier'] == person].copy()\n",
    "        is_organizer = (pdf['Organizer Email'] == person).astype(int)\n",
    "        is_organizer[is_organizer == 0] = -1\n",
    "        hangouts = pdf[pdf['Product Type'] == 'Classic Hangouts'].index\n",
    "        is_organizer.loc[hangouts] = 0\n",
    "        pdf['is_organizer'] = is_organizer\n",
    "        \n",
    "        dummies = []\n",
    "        for cname in ['dayofweek', 'hourofday', 'Client Type', 'Product Type', 'Country', 'is_organizer']:\n",
    "            dummies.append(pd.get_dummies(pdf[cname], prefix=cname).mean(0))\n",
    "        p = pd.concat(dummies)\n",
    "        p['mean_duration'] = pdf['Duration'].mean()\n",
    "        # p['std_duration'] = pdf['Duration'].std()\n",
    "        p = p.to_dict()\n",
    "        p['email'] = person\n",
    "        profiles.append(p)\n",
    "    return pd.DataFrame.from_records(profiles)"
   ]
  },
  {
   "cell_type": "markdown",
   "metadata": {},
   "source": [
    "### What does a user profile contain?\n",
    "\n",
    "* Call initiation time - Day of the week, minute of the day\n",
    "* Duration which user usually spends in calls\n",
    "* Whether user is organizer or participant. {Yes, No, Don't Know} (Can't know if the product is Classic Hangouts)\n",
    "* Client Type\n",
    "* Product Type\n",
    "* Call rating\n",
    "* Location\n",
    "\n",
    "### Do all of this pre and post lockdown"
   ]
  },
  {
   "cell_type": "markdown",
   "metadata": {},
   "source": [
    "### Profile comparison\n",
    "* Compare normalized value counts of day of week, hour of day, Client Type, Product Type\n",
    "* Compare duration distributions\n",
    "* Return a comparison \"report\""
   ]
  },
  {
   "cell_type": "code",
   "execution_count": null,
   "metadata": {},
   "outputs": [],
   "source": [
    "predf = get_profiles(xdf)\n",
    "postdf = get_profiles(ydf)\n",
    "predf.set_index('email', inplace=True, verify_integrity=True)\n",
    "postdf.set_index('email', inplace=True, verify_integrity=True)"
   ]
  },
  {
   "cell_type": "code",
   "execution_count": null,
   "metadata": {},
   "outputs": [],
   "source": [
    "for col in (set(predf.columns) ^ set(postdf.columns)):\n",
    "    if col not in predf:\n",
    "        predf[col] = 0\n",
    "    elif col not in postdf:\n",
    "        postdf[col] = 0"
   ]
  },
  {
   "cell_type": "code",
   "execution_count": null,
   "metadata": {},
   "outputs": [],
   "source": [
    "common = np.intersect1d(predf.index, postdf.index)\n",
    "X = predf.loc[common]\n",
    "Y = postdf.loc[common]\n",
    "X.fillna(value=0, inplace=True)\n",
    "Y.fillna(value=0, inplace=True)"
   ]
  },
  {
   "cell_type": "code",
   "execution_count": null,
   "metadata": {},
   "outputs": [],
   "source": [
    "from sklearn.metrics.pairwise import paired_euclidean_distances"
   ]
  },
  {
   "cell_type": "code",
   "execution_count": null,
   "metadata": {},
   "outputs": [],
   "source": [
    "from sklearn.preprocessing import MinMaxScaler"
   ]
  },
  {
   "cell_type": "code",
   "execution_count": null,
   "metadata": {},
   "outputs": [],
   "source": [
    "dist = paired_euclidean_distances(X.values, Y.values)\n",
    "dist = MinMaxScaler().fit_transform(dist.reshape(-1, 1)).ravel()\n",
    "dist = pd.Series(dist, index=X.index)"
   ]
  },
  {
   "cell_type": "code",
   "execution_count": null,
   "metadata": {},
   "outputs": [],
   "source": [
    "dist.sort_values(ascending=False).head(10)"
   ]
  },
  {
   "cell_type": "code",
   "execution_count": null,
   "metadata": {},
   "outputs": [],
   "source": [
    "def compare_profiles(pid):\n",
    "    # fig, ax = plt.subplots(nrows=2, ncols=1, figsize=(10, 8))\n",
    "    return pd.DataFrame({'pre': X.loc[pid], 'post': Y.loc[pid]})"
   ]
  },
  {
   "cell_type": "code",
   "execution_count": null,
   "metadata": {},
   "outputs": [],
   "source": [
    "compare_profiles('david75@salinas-gomez.com')"
   ]
  },
  {
   "cell_type": "code",
   "execution_count": null,
   "metadata": {},
   "outputs": [],
   "source": [
    "X.to_csv('data/pre.csv')\n",
    "Y.to_csv('data/post.csv')"
   ]
  },
  {
   "cell_type": "code",
   "execution_count": null,
   "metadata": {},
   "outputs": [],
   "source": [
    "dist.hist()"
   ]
  },
  {
   "cell_type": "code",
   "execution_count": null,
   "metadata": {},
   "outputs": [],
   "source": [
    "x = compare_profiles('amanda46@bishop.org')"
   ]
  },
  {
   "cell_type": "code",
   "execution_count": null,
   "metadata": {},
   "outputs": [],
   "source": [
    "x"
   ]
  },
  {
   "cell_type": "code",
   "execution_count": null,
   "metadata": {},
   "outputs": [],
   "source": [
    "x.loc[[c for c in x.index if c.startswith('dayofweek_')]].plot(kind='bar')"
   ]
  },
  {
   "cell_type": "code",
   "execution_count": null,
   "metadata": {},
   "outputs": [],
   "source": []
  }
 ],
 "metadata": {
  "kernelspec": {
   "display_name": "Python 3",
   "language": "python",
   "name": "python3"
  },
  "language_info": {
   "codemirror_mode": {
    "name": "ipython",
    "version": 3
   },
   "file_extension": ".py",
   "mimetype": "text/x-python",
   "name": "python",
   "nbconvert_exporter": "python",
   "pygments_lexer": "ipython3",
   "version": "3.6.8"
  }
 },
 "nbformat": 4,
 "nbformat_minor": 4
}
